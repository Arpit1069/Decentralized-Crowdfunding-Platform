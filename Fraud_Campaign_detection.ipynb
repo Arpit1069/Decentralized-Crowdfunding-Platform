{
  "nbformat": 4,
  "nbformat_minor": 0,
  "metadata": {
    "colab": {
      "provenance": [],
      "mount_file_id": "11Fb3N-P4Ri3CUj5M3__d4QC2Xf50jBOI",
      "authorship_tag": "ABX9TyNCDHcrpp9D4xnNay4K4OYm",
      "include_colab_link": true
    },
    "kernelspec": {
      "name": "python3",
      "display_name": "Python 3"
    },
    "language_info": {
      "name": "python"
    }
  },
  "cells": [
    {
      "cell_type": "markdown",
      "metadata": {
        "id": "view-in-github",
        "colab_type": "text"
      },
      "source": [
        "<a href=\"https://colab.research.google.com/github/Arpit1069/Decentralized-Crowdfunding-Platform/blob/main/Fraud_Campaign_detection.ipynb\" target=\"_parent\"><img src=\"https://colab.research.google.com/assets/colab-badge.svg\" alt=\"Open In Colab\"/></a>"
      ]
    },
    {
      "cell_type": "code",
      "execution_count": null,
      "metadata": {
        "id": "9sXUBx4M2kcm"
      },
      "outputs": [],
      "source": [
        "import numpy as np\n",
        "import pandas as pd"
      ]
    },
    {
      "cell_type": "code",
      "source": [
        "path = '/content/drive/MyDrive/Colab Notebooks/startup_funding.csv'\n",
        "df = pd.read_csv(path)"
      ],
      "metadata": {
        "id": "HZQGXhT69yPM"
      },
      "execution_count": null,
      "outputs": []
    },
    {
      "cell_type": "markdown",
      "source": [
        "# New Section"
      ],
      "metadata": {
        "id": "qd6ttvYxh3n4"
      }
    },
    {
      "cell_type": "code",
      "source": [
        "df.head(2)\n",
        "\n"
      ],
      "metadata": {
        "id": "lo8Hb5hV_2nE"
      },
      "execution_count": null,
      "outputs": []
    },
    {
      "cell_type": "code",
      "source": [
        "df.drop('Remarks',axis=1,inplace=True)\n"
      ],
      "metadata": {
        "id": "09dpAMdXAik0"
      },
      "execution_count": null,
      "outputs": []
    },
    {
      "cell_type": "code",
      "source": [
        "df.drop('Date dd/mm/yyyy',axis=1,inplace=True)"
      ],
      "metadata": {
        "id": "t1T7IloKDBkx"
      },
      "execution_count": null,
      "outputs": []
    },
    {
      "cell_type": "code",
      "source": [
        "df.drop('Sr No',axis=1,inplace=True)"
      ],
      "metadata": {
        "id": "XzS-yRhIDbcz"
      },
      "execution_count": null,
      "outputs": []
    },
    {
      "cell_type": "code",
      "source": [
        "df.shape"
      ],
      "metadata": {
        "id": "a7ZJgR5MDIIi"
      },
      "execution_count": null,
      "outputs": []
    },
    {
      "cell_type": "code",
      "source": [
        "df.head(5)"
      ],
      "metadata": {
        "id": "sBLkfsiZBXkI"
      },
      "execution_count": null,
      "outputs": []
    },
    {
      "cell_type": "code",
      "source": [
        "df.dropna(inplace=True)"
      ],
      "metadata": {
        "id": "09sEBvefHN7b"
      },
      "execution_count": null,
      "outputs": []
    },
    {
      "cell_type": "code",
      "source": [
        "df.isnull().sum()"
      ],
      "metadata": {
        "id": "AZxMyODQIgIX"
      },
      "execution_count": null,
      "outputs": []
    },
    {
      "cell_type": "code",
      "source": [
        "df.drop_duplicates(inplace=True)"
      ],
      "metadata": {
        "id": "WXv3M6Z1I3ja"
      },
      "execution_count": null,
      "outputs": []
    },
    {
      "cell_type": "code",
      "source": [
        "df.duplicated().sum()"
      ],
      "metadata": {
        "id": "tXx24J-PIohi"
      },
      "execution_count": null,
      "outputs": []
    },
    {
      "cell_type": "code",
      "source": [
        "df.dtypes"
      ],
      "metadata": {
        "id": "2OrWXOzNMvDi"
      },
      "execution_count": null,
      "outputs": []
    },
    {
      "cell_type": "code",
      "source": [
        "def replace_with_long_word(sentence):\n",
        "    return ''.join(sentence.split())"
      ],
      "metadata": {
        "id": "SAeROwOxQ0pw"
      },
      "execution_count": null,
      "outputs": []
    },
    {
      "cell_type": "code",
      "source": [
        "df['SubVertical'] = df['SubVertical'].apply(replace_with_long_word)\n",
        "df['Industry Vertical'] = df['Industry Vertical'].apply(replace_with_long_word)\n",
        "df['InvestmentnType'] = df['InvestmentnType'].apply(replace_with_long_word)"
      ],
      "metadata": {
        "id": "diSQiZLWQ7s3"
      },
      "execution_count": null,
      "outputs": []
    },
    {
      "cell_type": "code",
      "source": [
        "df['tags'] = df['Industry Vertical'] + df['SubVertical'] + df['InvestmentnType'] + df['City  Location']"
      ],
      "metadata": {
        "id": "L5B4JOyqTYbY"
      },
      "execution_count": null,
      "outputs": []
    },
    {
      "cell_type": "code",
      "source": [
        "new_df = df[['Startup Name','tags']]"
      ],
      "metadata": {
        "id": "KT6AvxKmY_Bq"
      },
      "execution_count": null,
      "outputs": []
    },
    {
      "cell_type": "code",
      "source": [
        "new_df.head(100)"
      ],
      "metadata": {
        "id": "jIPguIznZezj"
      },
      "execution_count": null,
      "outputs": []
    },
    {
      "cell_type": "code",
      "source": [
        "from sklearn.feature_extraction.text import CountVectorizer"
      ],
      "metadata": {
        "id": "R9Nf2OCzZoaJ"
      },
      "execution_count": null,
      "outputs": []
    },
    {
      "cell_type": "code",
      "source": [
        "cv = CountVectorizer(max_features=8000, stop_words='english')"
      ],
      "metadata": {
        "id": "7fCyvWzFuopq"
      },
      "execution_count": null,
      "outputs": []
    },
    {
      "cell_type": "code",
      "source": [
        "vectors = cv.fit_transform(new_df['tags']).toarray()"
      ],
      "metadata": {
        "id": "hODq_I4DvFQZ"
      },
      "execution_count": null,
      "outputs": []
    },
    {
      "cell_type": "code",
      "source": [
        "cv.get_feature_names_out()"
      ],
      "metadata": {
        "id": "8yV9Lte9vn7f"
      },
      "execution_count": null,
      "outputs": []
    },
    {
      "cell_type": "code",
      "source": [
        "from sklearn.metrics.pairwise import cosine_similarity"
      ],
      "metadata": {
        "id": "UFPIifeoxaKE"
      },
      "execution_count": null,
      "outputs": []
    },
    {
      "cell_type": "code",
      "source": [
        "similarity = cosine_similarity(vectors)"
      ],
      "metadata": {
        "id": "bo0ibqR_x3Xo"
      },
      "execution_count": null,
      "outputs": []
    },
    {
      "cell_type": "code",
      "source": [
        "sorted(list(enumerate(similarity[0])),reverse=True,key=lambda x:x[1])[1:6]"
      ],
      "metadata": {
        "id": "Hpuesx1N1qaR"
      },
      "execution_count": null,
      "outputs": []
    },
    {
      "cell_type": "code",
      "source": [
        "new_df.rename(columns={'Startup Name': 'Name'}, inplace=True)"
      ],
      "metadata": {
        "id": "jsQJhM4IehyC"
      },
      "execution_count": null,
      "outputs": []
    },
    {
      "cell_type": "code",
      "source": [
        "new_df.head(20)"
      ],
      "metadata": {
        "id": "tkrPYoHEifrE"
      },
      "execution_count": null,
      "outputs": []
    },
    {
      "cell_type": "code",
      "source": [
        "def recommend(fund):\n",
        "    fund_index = new_df[new_df['Name'] == fund].index[0]\n",
        "    distances = similarity[fund_index]\n",
        "    fund_list = sorted(list(enumerate(distances)),reverse=True,key=lambda x:x[1])[1:6]\n",
        "\n",
        "    for i in fund_list:\n",
        "        print(new_df.iloc[i[0]].Name)"
      ],
      "metadata": {
        "id": "giD7T76c0qEe"
      },
      "execution_count": null,
      "outputs": []
    },
    {
      "cell_type": "code",
      "source": [
        "recommend('Freshworks')"
      ],
      "metadata": {
        "id": "bnlmDI5O8qHy"
      },
      "execution_count": null,
      "outputs": []
    }
  ]
}